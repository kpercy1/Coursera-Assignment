{
 "cells": [
  {
   "cell_type": "markdown",
   "metadata": {
    "collapsed": true
   },
   "source": [
    "# My Jupyter Notebook on IBM Watson Studio"
   ]
  },
  {
   "cell_type": "markdown",
   "metadata": {},
   "source": [
    "<b>Kyan</b><br>Desired Occupation: Financial Analyst"
   ]
  },
  {
   "cell_type": "markdown",
   "metadata": {},
   "source": [
    "*I am interested in data science because it is an area which I expect to grow hugely in the future, as data science skills will become increasingly necessary for all businesses*"
   ]
  },
  {
   "cell_type": "markdown",
   "metadata": {},
   "source": [
    "### The next cell will display the value of pi"
   ]
  },
  {
   "cell_type": "code",
   "execution_count": 6,
   "metadata": {},
   "outputs": [
    {
     "name": "stdout",
     "output_type": "stream",
     "text": [
      "3.141592653589793\n"
     ]
    }
   ],
   "source": [
    "import numpy as np\n",
    "print(np.pi)"
   ]
  },
  {
   "cell_type": "markdown",
   "metadata": {},
   "source": [
    "## Here is an image of New York City:\n",
    "<img src=\"https://media.cntraveler.com/photos/63483e15ef943eff59de603a/3:4/w_1500,h_2000,c_limit/New%20York%20City_GettyImages-1347979016.jpg\">\n",
    "<h2>Other images can be found <a href=\"https://www.google.com/search?q=new+york&tbm=isch&ved=2ahUKEwiZl7yg_Lv8AhUBBbcAHecNB60Q2-cCegQIABAA&oq=new+york&gs_lcp=CgNpbWcQAzIECAAQQzIECAAQQzIECAAQQzIECAAQQzIECAAQQzIHCAAQsQMQQzIHCAAQsQMQQzIICAAQgAQQsQMyCAgAEIAEELEDMgUIABCABDoECCMQJzoKCAAQsQMQgwEQQ1DWQFimS2C_UmgAcAB4AYABmQOIAYsQkgEJMC40LjQuMC4xmAEAoAEBqgELZ3dzLXdpei1pbWfAAQE&sclient=img&ei=bM-8Y5mxNYGK3LUP55uc6Ao&bih=712&biw=1368&rlz=1C1GGRV_enAU853AU853\">here</a><br><br><s>New York is ugly</s><h2>"
   ]
  },
  {
   "cell_type": "code",
   "execution_count": null,
   "metadata": {},
   "outputs": [],
   "source": []
  }
 ],
 "metadata": {
  "kernelspec": {
   "display_name": "Python 3.10",
   "language": "python",
   "name": "python3"
  },
  "language_info": {
   "codemirror_mode": {
    "name": "ipython",
    "version": 3
   },
   "file_extension": ".py",
   "mimetype": "text/x-python",
   "name": "python",
   "nbconvert_exporter": "python",
   "pygments_lexer": "ipython3",
   "version": "3.10.6"
  }
 },
 "nbformat": 4,
 "nbformat_minor": 1
}
